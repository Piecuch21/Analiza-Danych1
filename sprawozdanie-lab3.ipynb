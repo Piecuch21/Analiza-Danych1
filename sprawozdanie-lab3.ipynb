{
 "cells": [
  {
   "cell_type": "markdown",
   "metadata": {},
   "source": [
    "# Laboratorium 3: Przetwarzanie i Analiza Danych w Pandas\n",
    "\n",
    "**Cel ćwiczenia:** Celem tego laboratorium jest przećwiczenie zaawansowanych technik czyszczenia i transformacji danych z wykorzystaniem biblioteki Pandas. Będziemy pracować na przykładowym zbiorze danych, symulującym odczyty z sensorów przemysłowych."
   ]
  },
  {
   "cell_type": "markdown",
   "metadata": {},
   "source": [
    "---\n",
    "\n",
    "### **Zadanie 1: Wczytanie i porządkowanie danych**\n",
    "\n",
    "Załaduj dane do obiektu DataFrame, posortuj je chronologicznie według kolumny `timestamp`, a następnie ustaw tę kolumnę jako nowy indeks. Na koniec usuń zbędną kolumnę `index`.\n",
    "\n",
    "> **Wskazówka:** Użyj `pd.read_csv()` do załadowania danych oraz `sort_values()`,`set_index()` dla ustawienia indeksu na `timestamp`."
   ]
  },
  {
   "cell_type": "code",
   "execution_count": 8,
   "metadata": {},
   "outputs": [
    {
     "data": {
      "text/html": [
       "<div>\n",
       "<style scoped>\n",
       "    .dataframe tbody tr th:only-of-type {\n",
       "        vertical-align: middle;\n",
       "    }\n",
       "\n",
       "    .dataframe tbody tr th {\n",
       "        vertical-align: top;\n",
       "    }\n",
       "\n",
       "    .dataframe thead th {\n",
       "        text-align: right;\n",
       "    }\n",
       "</style>\n",
       "<table border=\"1\" class=\"dataframe\">\n",
       "  <thead>\n",
       "    <tr style=\"text-align: right;\">\n",
       "      <th></th>\n",
       "      <th>index</th>\n",
       "      <th>timestamp</th>\n",
       "      <th>voltage</th>\n",
       "      <th>current</th>\n",
       "      <th>temperature</th>\n",
       "      <th>technician_first_name</th>\n",
       "      <th>technician_last_name</th>\n",
       "      <th>status</th>\n",
       "    </tr>\n",
       "  </thead>\n",
       "  <tbody>\n",
       "    <tr>\n",
       "      <th>0</th>\n",
       "      <td>1</td>\n",
       "      <td>2023-01-09 18:59:00</td>\n",
       "      <td>999.000000</td>\n",
       "      <td>1.873448</td>\n",
       "      <td>54.312392</td>\n",
       "      <td>John</td>\n",
       "      <td>Doe</td>\n",
       "      <td>working</td>\n",
       "    </tr>\n",
       "    <tr>\n",
       "      <th>1</th>\n",
       "      <td>2</td>\n",
       "      <td>2023-01-17 05:49:00</td>\n",
       "      <td>0.000000</td>\n",
       "      <td>0.000000</td>\n",
       "      <td>64.919201</td>\n",
       "      <td>Jane</td>\n",
       "      <td>Smith</td>\n",
       "      <td>turned off</td>\n",
       "    </tr>\n",
       "    <tr>\n",
       "      <th>2</th>\n",
       "      <td>3</td>\n",
       "      <td>2023-01-23 14:33:00</td>\n",
       "      <td>226.006387</td>\n",
       "      <td>1.932824</td>\n",
       "      <td>58.203752</td>\n",
       "      <td>Emily</td>\n",
       "      <td>Brown</td>\n",
       "      <td>working</td>\n",
       "    </tr>\n",
       "    <tr>\n",
       "      <th>3</th>\n",
       "      <td>4</td>\n",
       "      <td>2023-01-24 05:55:00</td>\n",
       "      <td>227.497793</td>\n",
       "      <td>1.455068</td>\n",
       "      <td>69.815826</td>\n",
       "      <td>Michael</td>\n",
       "      <td>Johnson</td>\n",
       "      <td>working</td>\n",
       "    </tr>\n",
       "    <tr>\n",
       "      <th>4</th>\n",
       "      <td>5</td>\n",
       "      <td>2023-01-25 09:08:00</td>\n",
       "      <td>0.000000</td>\n",
       "      <td>0.000000</td>\n",
       "      <td>56.077541</td>\n",
       "      <td>John</td>\n",
       "      <td>Doe</td>\n",
       "      <td>turned off</td>\n",
       "    </tr>\n",
       "  </tbody>\n",
       "</table>\n",
       "</div>"
      ],
      "text/plain": [
       "   index            timestamp     voltage   current  temperature  \\\n",
       "0      1  2023-01-09 18:59:00  999.000000  1.873448    54.312392   \n",
       "1      2  2023-01-17 05:49:00    0.000000  0.000000    64.919201   \n",
       "2      3  2023-01-23 14:33:00  226.006387  1.932824    58.203752   \n",
       "3      4  2023-01-24 05:55:00  227.497793  1.455068    69.815826   \n",
       "4      5  2023-01-25 09:08:00    0.000000  0.000000    56.077541   \n",
       "\n",
       "  technician_first_name technician_last_name      status  \n",
       "0                  John                  Doe     working  \n",
       "1                  Jane                Smith  turned off  \n",
       "2                 Emily                Brown     working  \n",
       "3               Michael              Johnson     working  \n",
       "4                  John                  Doe  turned off  "
      ]
     },
     "execution_count": 8,
     "metadata": {},
     "output_type": "execute_result"
    }
   ],
   "source": [
    "# Krok 1: Zaimportuj bibliotekę pandas\n",
    "import pandas as pd\n",
    "\n",
    "# Krok 2: Wczytaj dane z pliku CSV\n",
    "df = pd.read_csv('technician_measurements_with_errors.csv')\n",
    "\n",
    "df_sorted = df.sort_values(by='timestamp')\n",
    "\n",
    "df_indexed=df_sorted.set_index('timestamp')\n",
    "\n",
    "df_final=df_indexed.drop(columns=['index'])\n",
    "# Wyświetl pierwsze 5 wierszy, aby zweryfikować zmiany\n",
    "df.head()"
   ]
  },
  {
   "cell_type": "markdown",
   "metadata": {},
   "source": [
    "---\n",
    "\n",
    "### **Zadanie 2: Łączenie kolumn**\n",
    "\n",
    "Połącz dane z kolumn `technician_first_name` i `technician_last_name` w jedną nową kolumnę o nazwie `technician`. Dane rozdziel spacją."
   ]
  },
  {
   "cell_type": "code",
   "execution_count": 1,
   "metadata": {},
   "outputs": [
    {
     "ename": "NameError",
     "evalue": "name 'df' is not defined",
     "output_type": "error",
     "traceback": [
      "\u001b[31m---------------------------------------------------------------------------\u001b[39m",
      "\u001b[31mNameError\u001b[39m                                 Traceback (most recent call last)",
      "\u001b[36mCell\u001b[39m\u001b[36m \u001b[39m\u001b[32mIn[1]\u001b[39m\u001b[32m, line 1\u001b[39m\n\u001b[32m----> \u001b[39m\u001b[32m1\u001b[39m \u001b[43mdf\u001b[49m[\u001b[33m'\u001b[39m\u001b[33mtechnician_first_name\u001b[39m\u001b[33m'\u001b[39m]+\u001b[33m'\u001b[39m\u001b[33m \u001b[39m\u001b[33m'\u001b[39m+df[\u001b[33m'\u001b[39m\u001b[33mtechnician_last_name\u001b[39m\u001b[33m'\u001b[39m]\n",
      "\u001b[31mNameError\u001b[39m: name 'df' is not defined"
     ]
    }
   ],
   "source": [
    "df['technician_first_name']+' '+df['technician_last_name']"
   ]
  },
  {
   "cell_type": "markdown",
   "metadata": {},
   "source": [
    "---\n",
    "\n",
    "### **Zadanie 3: Kodowanie zero-jedynkowe (One-Hot Encoding)**\n",
    "\n",
    "Przekształć kolumnę kategoryczną `status` na trzy nowe kolumny binarne: `status_working`, `status_broken` i `status_turned_off`. Każda z nowych kolumn powinna przyjmować wartość `1`, jeśli status w oryginalnej kolumnie odpowiada jej nazwie, a `0` w przeciwnym razie.\n",
    "\n",
    "> **Wskazówka:** Skorzystaj z funkcji `pd.get_dummies()`."
   ]
  },
  {
   "cell_type": "code",
   "execution_count": 16,
   "metadata": {},
   "outputs": [
    {
     "data": {
      "text/html": [
       "<div>\n",
       "<style scoped>\n",
       "    .dataframe tbody tr th:only-of-type {\n",
       "        vertical-align: middle;\n",
       "    }\n",
       "\n",
       "    .dataframe tbody tr th {\n",
       "        vertical-align: top;\n",
       "    }\n",
       "\n",
       "    .dataframe thead th {\n",
       "        text-align: right;\n",
       "    }\n",
       "</style>\n",
       "<table border=\"1\" class=\"dataframe\">\n",
       "  <thead>\n",
       "    <tr style=\"text-align: right;\">\n",
       "      <th></th>\n",
       "      <th>index</th>\n",
       "      <th>timestamp</th>\n",
       "      <th>voltage</th>\n",
       "      <th>current</th>\n",
       "      <th>temperature</th>\n",
       "      <th>technician_first_name</th>\n",
       "      <th>technician_last_name</th>\n",
       "      <th>status_broken</th>\n",
       "      <th>status_turned off</th>\n",
       "      <th>status_working</th>\n",
       "    </tr>\n",
       "  </thead>\n",
       "  <tbody>\n",
       "    <tr>\n",
       "      <th>0</th>\n",
       "      <td>1</td>\n",
       "      <td>2023-01-09 18:59:00</td>\n",
       "      <td>999.000000</td>\n",
       "      <td>1.873448</td>\n",
       "      <td>54.312392</td>\n",
       "      <td>John</td>\n",
       "      <td>Doe</td>\n",
       "      <td>False</td>\n",
       "      <td>False</td>\n",
       "      <td>True</td>\n",
       "    </tr>\n",
       "    <tr>\n",
       "      <th>1</th>\n",
       "      <td>2</td>\n",
       "      <td>2023-01-17 05:49:00</td>\n",
       "      <td>0.000000</td>\n",
       "      <td>0.000000</td>\n",
       "      <td>64.919201</td>\n",
       "      <td>Jane</td>\n",
       "      <td>Smith</td>\n",
       "      <td>False</td>\n",
       "      <td>True</td>\n",
       "      <td>False</td>\n",
       "    </tr>\n",
       "    <tr>\n",
       "      <th>2</th>\n",
       "      <td>3</td>\n",
       "      <td>2023-01-23 14:33:00</td>\n",
       "      <td>226.006387</td>\n",
       "      <td>1.932824</td>\n",
       "      <td>58.203752</td>\n",
       "      <td>Emily</td>\n",
       "      <td>Brown</td>\n",
       "      <td>False</td>\n",
       "      <td>False</td>\n",
       "      <td>True</td>\n",
       "    </tr>\n",
       "    <tr>\n",
       "      <th>3</th>\n",
       "      <td>4</td>\n",
       "      <td>2023-01-24 05:55:00</td>\n",
       "      <td>227.497793</td>\n",
       "      <td>1.455068</td>\n",
       "      <td>69.815826</td>\n",
       "      <td>Michael</td>\n",
       "      <td>Johnson</td>\n",
       "      <td>False</td>\n",
       "      <td>False</td>\n",
       "      <td>True</td>\n",
       "    </tr>\n",
       "    <tr>\n",
       "      <th>4</th>\n",
       "      <td>5</td>\n",
       "      <td>2023-01-25 09:08:00</td>\n",
       "      <td>0.000000</td>\n",
       "      <td>0.000000</td>\n",
       "      <td>56.077541</td>\n",
       "      <td>John</td>\n",
       "      <td>Doe</td>\n",
       "      <td>False</td>\n",
       "      <td>True</td>\n",
       "      <td>False</td>\n",
       "    </tr>\n",
       "  </tbody>\n",
       "</table>\n",
       "</div>"
      ],
      "text/plain": [
       "   index            timestamp     voltage   current  temperature  \\\n",
       "0      1  2023-01-09 18:59:00  999.000000  1.873448    54.312392   \n",
       "1      2  2023-01-17 05:49:00    0.000000  0.000000    64.919201   \n",
       "2      3  2023-01-23 14:33:00  226.006387  1.932824    58.203752   \n",
       "3      4  2023-01-24 05:55:00  227.497793  1.455068    69.815826   \n",
       "4      5  2023-01-25 09:08:00    0.000000  0.000000    56.077541   \n",
       "\n",
       "  technician_first_name technician_last_name  status_broken  \\\n",
       "0                  John                  Doe          False   \n",
       "1                  Jane                Smith          False   \n",
       "2                 Emily                Brown          False   \n",
       "3               Michael              Johnson          False   \n",
       "4                  John                  Doe          False   \n",
       "\n",
       "   status_turned off  status_working  \n",
       "0              False            True  \n",
       "1               True           False  \n",
       "2              False            True  \n",
       "3              False            True  \n",
       "4               True           False  "
      ]
     },
     "execution_count": 16,
     "metadata": {},
     "output_type": "execute_result"
    }
   ],
   "source": [
    "status_dummies = pd.get_dummies(df['status'], prefix='status')\n",
    "df_encoded = pd.concat([df, status_dummies], axis =1 )\n",
    "df_encoded = df_encoded.drop(columns=\n",
    "    ['status'])\n",
    "df_encoded.head()"
   ]
  },
  {
   "cell_type": "markdown",
   "metadata": {},
   "source": [
    "---\n",
    "\n",
    "### **Zadanie 4: Usuwanie wartości odstających (outliers)**\n",
    "\n",
    "Zidentyfikuj i usuń wiersze zawierające *wartości odstające* w kolumnach `current` i `voltage`. Za wartość odstającą uznajemy każdą wartość, która jest **większa niż 95. [percentyl](https://www.wikiwand.com/pl/articles/Percentyl)** dla danej kolumny.\n",
    "\n",
    "> **Wskazówka:** Użyj metody `.quantile()`"
   ]
  },
  {
   "cell_type": "code",
   "execution_count": null,
   "metadata": {},
   "outputs": [],
   "source": []
  },
  {
   "cell_type": "markdown",
   "metadata": {},
   "source": [
    "---\n",
    "\n",
    "### **Zadanie 5: Zastępowanie wartości odstających**\n",
    "\n",
    "Tym razem, zamiast usuwać, zastąp wartości odstające w kolumnie `temperature`. Zastąp je **średnią temperaturą**, obliczoną osobno dla każdej kategorii ze starej kolumny `status` (`'broken'`, `'working'`, itd.).\n",
    "\n",
    "> **Wskazówka:** Możesz użyć `groupby()` i `transform()`, aby obliczyć średnie dla grup."
   ]
  },
  {
   "cell_type": "code",
   "execution_count": null,
   "metadata": {},
   "outputs": [],
   "source": []
  },
  {
   "cell_type": "markdown",
   "metadata": {},
   "source": [
    "---\n",
    "### **Zadanie 6: Inżynieria cech (Feature Engineering)**\n",
    "\n",
    "Dodaj dwie nowe kolumny:\n",
    "1.  `power` – obliczoną jako iloczyn wartości z kolumn `voltage` i `current`.\n",
    "2.  `normalized_power` – zawierającą znormalizowane wartości z kolumny `power`.\n",
    "\n",
    "Do normalizacji użyj poniższego wzoru (skalowanie min-max):\n",
    "$$ \\text{Normalized} = \\frac{\\text{Value} - \\text{Min}}{\\text{Max} - \\text{Min}} $$"
   ]
  },
  {
   "cell_type": "code",
   "execution_count": null,
   "metadata": {},
   "outputs": [],
   "source": []
  },
  {
   "cell_type": "markdown",
   "metadata": {},
   "source": [
    "---\n",
    "\n",
    "### **Zadanie 7: Standaryzacja danych**\n",
    "\n",
    "Dokonaj standaryzacji wartości w kolumnie `temperature`. Standaryzacja (lub normalizacja Z-score) polega na przekształceniu danych tak, aby ich średnia była równa `0`, a odchylenie standardowe równe `1`.\n",
    "$$ \\text{Standardized} = \\frac{\\text{Value} - \\text{Mean}}{\\text{Std}} $$\n",
    "\n",
    "> **Wskazówka:** Użyj metody `.apply()` wraz z funkcją `lambda`.\n"
   ]
  },
  {
   "cell_type": "code",
   "execution_count": null,
   "metadata": {},
   "outputs": [],
   "source": []
  },
  {
   "cell_type": "markdown",
   "metadata": {},
   "source": [
    "---\n",
    "\n",
    "### **Zadanie 8: Modyfikacja nazw kolumn**\n",
    "\n",
    "Zmień nazwy wszystkich kolumn tak, aby każda z nich zaczynała się wielką literą (np. `voltage` -> `Voltage`).\n",
    "\n",
    "> **Wskazówka:** Wykorzystaj metodę `.rename()` w połączeniu z funkcją `str.title()`."
   ]
  },
  {
   "cell_type": "code",
   "execution_count": null,
   "metadata": {},
   "outputs": [],
   "source": []
  },
  {
   "cell_type": "markdown",
   "metadata": {},
   "source": [
    "---\n",
    "\n",
    "### **Zadanie 9: Warunkowa modyfikacja danych**\n",
    "\n",
    "Do każdego rekordu w kolumnie `Current`, który został zarejestrowany **przed datą 10 stycznia**, dodaj wartość `0.1`.\n",
    "\n",
    "> **Wskazówka:** Użyj `loc[]` do warunkowego wybrania i zaktualizowania odpowiednich wierszy."
   ]
  },
  {
   "cell_type": "code",
   "execution_count": null,
   "metadata": {},
   "outputs": [],
   "source": []
  }
 ],
 "metadata": {
  "kernelspec": {
   "display_name": "Python 3",
   "language": "python",
   "name": "python3"
  },
  "language_info": {
   "codemirror_mode": {
    "name": "ipython",
    "version": 3
   },
   "file_extension": ".py",
   "mimetype": "text/x-python",
   "name": "python",
   "nbconvert_exporter": "python",
   "pygments_lexer": "ipython3",
   "version": "3.11.9"
  }
 },
 "nbformat": 4,
 "nbformat_minor": 2
}
